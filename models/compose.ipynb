{
 "cells": [
  {
   "cell_type": "markdown",
   "id": "80ffdd88",
   "metadata": {},
   "source": [
    "# Preprocess & analyze"
   ]
  },
  {
   "cell_type": "code",
   "execution_count": null,
   "id": "92b4e8b9",
   "metadata": {},
   "outputs": [],
   "source": [
    "\n",
    "import numpy as np\n",
    "import string\n",
    "\n",
    "def preprocess(text, maxlen=20):\n",
    "    \n",
    "    chars = list(string.ascii_lowercase + string.digits + \" \")\n",
    "    char2idx = {ch: i + 1 for i, ch in enumerate(chars)}\n",
    "\n",
    "    \n",
    "    text = text.lower()\n",
    "    seq = [char2idx.get(ch, 0) for ch in text]\n",
    "    seq = seq[:maxlen] + [0]*(maxlen - len(seq))\n",
    "    return np.array(seq)\n",
    "\n",
    "def analyze_text(text, model):\n",
    "    input_seq = preprocess(text)\n",
    "    pred = model.predict(np.expand_dims(input_seq, axis=0), verbose=0)[0]\n",
    "\n",
    "    print(pred)\n",
    "\n",
    "    return {\n",
    "        \"input\": text,\n",
    "        \"percent_string\": round(pred[0]*100, 2),\n",
    "        \"percent_number\": round(pred[1]*100, 2)\n",
    "    }"
   ]
  },
  {
   "cell_type": "markdown",
   "id": "05c5eac3",
   "metadata": {},
   "source": [
    "# Create Model"
   ]
  },
  {
   "cell_type": "code",
   "execution_count": null,
   "id": "190716dc",
   "metadata": {},
   "outputs": [
    {
     "ename": "",
     "evalue": "",
     "output_type": "error",
     "traceback": [
      "\u001b[1;31mRunning cells with 'Python 3.12.10' requires the ipykernel package.\n",
      "\u001b[1;31m<a href='command:jupyter.createPythonEnvAndSelectController'>Create a Python Environment</a> with the required packages.\n",
      "\u001b[1;31mOr install 'ipykernel' using the command: 'c:/Users/ASUS/AppData/Local/Programs/Python/Python312/python.exe -m pip install ipykernel -U --user --force-reinstall'"
     ]
    }
   ],
   "source": [
    "import tensorflow as tf\n",
    "from tensorflow.keras.models import Model\n",
    "from tensorflow.keras.layers import Input, Embedding, LSTM, Dense, GlobalAveragePooling1D\n",
    "import numpy as np\n",
    "import string\n",
    "import sys\n",
    "\n",
    "# 1. Character-level vocabulary\n",
    "chars = list(string.ascii_lowercase + string.digits + \" \")\n",
    "char2idx = {ch: i + 1 for i, ch in enumerate(chars)}  # reserve 0 for padding\n",
    "vocab_size = len(char2idx) + 1\n",
    "\n",
    "# 3. Model definition\n",
    "\n",
    "\n",
    "def create_model(maxlen=20):\n",
    "    inp = Input(shape=(maxlen,))\n",
    "    x = Embedding(vocab_size, 16)(inp)\n",
    "    x = LSTM(32, return_sequences=True)(x)\n",
    "    x = GlobalAveragePooling1D()(x)\n",
    "    out = Dense(2, activation='softmax')(x)  # %string, %number\n",
    "    model = Model(inputs=inp, outputs=out)\n",
    "    model.compile(optimizer='adam', loss='mse')\n",
    "    return model\n",
    "\n",
    "\n",
    "model = create_model()\n",
    "\n",
    "# 4. Example training data\n",
    "examples = [\n",
    "    (\"hello\", [1.0, 0.0]),\n",
    "    (\"\", [0.0, 0.0]),\n",
    "    (\"42\", [0.0, 1.0]),\n",
    "    (\"h3110\", [0.6, 0.4]),\n",
    "    (\"123\", [0.0, 1.0]),\n",
    "    (\"a1b2\", [0.5, 0.5]),\n",
    "    (\"world2025\", [0.5, 0.5]),\n",
    "    (\"sam1\", [0.75, 0.25]),\n",
    "]\n",
    "\n",
    "X = np.array([preprocess(text) for text, _ in examples])\n",
    "y = np.array([label for _, label in examples])\n",
    "\n",
    "# 5. Train model\n",
    "model.fit(X, y, epochs=50, verbose=0)\n",
    "\n",
    "\n",
    "# Test\n",
    "print(analyze_text(text=\"Hello\", model=model))\n",
    "print(analyze_text(text=\"h3110\", model=model))\n",
    "print(analyze_text(text=\"123456\", model=model))\n",
    "print(analyze_text(text=\"AI2025\", model=model))\n",
    "print(analyze_text(text=\"A\", model=model))\n",
    "\n",
    "model.save(\"string_number_classifier.keras\")\n",
    "\n",
    "sys.modules[__name__] = analyze_text\n",
    "# __all__ = [analyze_text, preprocess]"
   ]
  },
  {
   "cell_type": "markdown",
   "id": "397b4bc6",
   "metadata": {},
   "source": [
    "# Loaded Model"
   ]
  },
  {
   "cell_type": "code",
   "execution_count": null,
   "id": "daaef102",
   "metadata": {},
   "outputs": [
    {
     "ename": "NameError",
     "evalue": "name 'preprocess' is not defined",
     "output_type": "error",
     "traceback": [
      "\u001b[31m---------------------------------------------------------------------------\u001b[39m",
      "\u001b[31mNameError\u001b[39m                                 Traceback (most recent call last)",
      "\u001b[36mCell\u001b[39m\u001b[36m \u001b[39m\u001b[32mIn[2]\u001b[39m\u001b[32m, line 24\u001b[39m\n\u001b[32m      8\u001b[39m model = keras.models.load_model(\u001b[33m\"\u001b[39m\u001b[33m./string_number_classifier.keras\u001b[39m\u001b[33m\"\u001b[39m)\n\u001b[32m     10\u001b[39m examples = [\n\u001b[32m     11\u001b[39m     (\u001b[33m\"\u001b[39m\u001b[33mh1\u001b[39m\u001b[33m\"\u001b[39m, [\u001b[32m0.5\u001b[39m, \u001b[32m0.5\u001b[39m]),\n\u001b[32m     12\u001b[39m     (\u001b[33m\"\u001b[39m\u001b[33m\"\u001b[39m, [\u001b[32m0.0\u001b[39m, \u001b[32m0.0\u001b[39m]),\n\u001b[32m   (...)\u001b[39m\u001b[32m     21\u001b[39m     (\u001b[33m\"\u001b[39m\u001b[33m155b\u001b[39m\u001b[33m\"\u001b[39m, [\u001b[32m0.25\u001b[39m, \u001b[32m0.75\u001b[39m]),\n\u001b[32m     22\u001b[39m ]\n\u001b[32m---> \u001b[39m\u001b[32m24\u001b[39m x = np.array([\u001b[43mpreprocess\u001b[49m(text) \u001b[38;5;28;01mfor\u001b[39;00m text, _ \u001b[38;5;129;01min\u001b[39;00m examples])\n\u001b[32m     25\u001b[39m y = np.array([label \u001b[38;5;28;01mfor\u001b[39;00m _, label \u001b[38;5;129;01min\u001b[39;00m examples])\n\u001b[32m     27\u001b[39m opt1 = tf.keras.optimizers.Adam(learning_rate=\u001b[32m1e-3\u001b[39m)\n",
      "\u001b[31mNameError\u001b[39m: name 'preprocess' is not defined"
     ]
    }
   ],
   "source": [
    "import preprocess, analyze_text\n",
    "\n",
    "import tensorflow as tf\n",
    "# from tensorflow.keras.models import load_model\n",
    "\n",
    "import keras\n",
    "from keras import ops\n",
    "import numpy as np\n",
    "\n",
    "model = keras.models.load_model(\"./string_number_classifier.keras\")\n",
    "\n",
    "examples = [\n",
    "    (\"h1\", [0.5, 0.5]),\n",
    "    (\"\", [0.0, 0.0]),\n",
    "    (\"1234567890\", [0.0, 1.0]),\n",
    "    (\"0987654321\", [0.0, 1.0]),\n",
    "    (\"h3110\", [0.6, 0.4]),\n",
    "    (\"789\", [0.0, 1.0]),\n",
    "    (\"AA000\", [0.4, 0.6]),\n",
    "    (\"A2B1\", [0.5, 0.5]),\n",
    "    (\"123lll123\", [0.33, 0.66]),\n",
    "    (\"1amb\", [0.75, 0.25]),\n",
    "    (\"155b\", [0.25, 0.75]),\n",
    "]\n",
    "\n",
    "x = np.array([preprocess(text) for text, _ in examples])\n",
    "y = np.array([label for _, label in examples])\n",
    "\n",
    "opt1 = tf.keras.optimizers.Adam(learning_rate=1e-3)\n",
    "opt2 = tf.keras.optimizers.SGD(learning_rate=0)\n",
    "\n",
    "opt_layer_pairs = [(opt1, model.layers[0]), (opt2, model.layers[1])]\n",
    "\n",
    "loss = tf.keras.losses.MSE\n",
    "\n",
    "optimizer = tf.keras.optimizers.Adam(learning_rate=1e-3, clipnorm=1.0)\n",
    "model.compile(optimizer=optimizer, loss='mse')\n",
    "\n",
    "model.fit(x, y, batch_size=8, epochs=10, verbose=0)\n",
    "\n",
    "print(analyze_text(text=\"Hello\", model=model))\n",
    "print(analyze_text(text=\"h3110\", model=model))\n",
    "print(analyze_text(text=\"123456\", model=model))\n",
    "print(analyze_text(text=\"AI2025\", model=model))\n",
    "print(analyze_text(text=\"A\", model=model))"
   ]
  }
 ],
 "metadata": {
  "kernelspec": {
   "display_name": "Python 3",
   "language": "python",
   "name": "python3"
  },
  "language_info": {
   "codemirror_mode": {
    "name": "ipython",
    "version": 3
   },
   "file_extension": ".py",
   "mimetype": "text/x-python",
   "name": "python",
   "nbconvert_exporter": "python",
   "pygments_lexer": "ipython3",
   "version": "3.12.10"
  }
 },
 "nbformat": 4,
 "nbformat_minor": 5
}
