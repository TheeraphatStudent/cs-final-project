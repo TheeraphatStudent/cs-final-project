{
 "cells": [
  {
   "cell_type": "markdown",
   "id": "d62d4d5e",
   "metadata": {},
   "source": [
    "# Usage Model"
   ]
  },
  {
   "cell_type": "code",
   "execution_count": 157,
   "id": "dae149d9",
   "metadata": {},
   "outputs": [
    {
     "name": "stdout",
     "output_type": "stream",
     "text": [
      "SVC(probability=True, random_state=42)\n",
      "StandardScaler()\n",
      "LabelEncoder()\n",
      "                                         url type  isMalicious\n",
      "0                     https://dr-carte.info/  NaN        False\n",
      "1                 https://www.dr-carte.info/  NaN        False\n",
      "2  https://teal-usability-494962.framer.app/  NaN        False\n",
      "3                    http://iokjdh.pages.dev  NaN        False\n",
      "4                  https://iokjdh.pages.dev/  NaN        False\n",
      "                                                     url type  isMalicious\n",
      "7766                     https://material-badge.surge.sh  NaN         True\n",
      "46667                     https://js.joomoom.cc/riben.js  NaN         True\n",
      "47794  https://tsskpk.com/wp-content/plugins/wp-confi...  NaN         True\n",
      "51550                       https://lin01.bid/sw/w_11.js  NaN         True\n",
      "52272                   http://2.35.160.247:50157/bin.sh  NaN         True\n"
     ]
    }
   ],
   "source": [
    "import joblib\n",
    "import pandas as pd\n",
    "import re\n",
    "import matplotlib.pyplot as plt\n",
    "import seaborn as sns\n",
    "import numpy as np\n",
    "from urllib.parse import urlparse\n",
    "from googlesearch import search\n",
    "from tld import get_tld\n",
    "\n",
    "# ML\n",
    "from sklearn.utils.validation import check_is_fitted\n",
    "from sklearn.preprocessing import LabelEncoder, StandardScaler\n",
    "\n",
    "# Model\n",
    "MODEL_PATH = \"../code/exports/models\"\n",
    "\n",
    "TARGET_MODEL = \"svm_flag_model.pkl\"\n",
    "SCALER_FILE = \"svm_flag_scaler.pkl\"\n",
    "\n",
    "# Lebel\n",
    "LEBEL_PATH = \"../code/exports/labels\"\n",
    "TARGET_LEBEL = \"label_encoder_svm_flag.pkl\"\n",
    "\n",
    "model = joblib.load(f\"{MODEL_PATH}/{TARGET_MODEL}\")\n",
    "scaler = joblib.load(f\"{MODEL_PATH}/{SCALER_FILE}\")\n",
    "lebel = joblib.load(f\"{LEBEL_PATH}/{TARGET_LEBEL}\")\n",
    "\n",
    "print(model)\n",
    "print(scaler)\n",
    "print(lebel)\n",
    "\n",
    "# Data\n",
    "DATA_PATH = \"../artifacts/dataset_cleanup/data_cleaned.csv\"\n",
    "\n",
    "dataset = pd.read_csv(f\"{DATA_PATH}\")\n",
    "\n",
    "print(dataset[dataset['isMalicious'] == False].head())\n",
    "print(dataset[dataset['isMalicious'] == True].head())"
   ]
  },
  {
   "cell_type": "markdown",
   "id": "4b191dc1",
   "metadata": {},
   "source": [
    "## Input"
   ]
  },
  {
   "cell_type": "code",
   "execution_count": 158,
   "id": "9d7f8efa",
   "metadata": {},
   "outputs": [],
   "source": [
    "# url_input = \"www.google.com\"\n",
    "# url_input = \"http://43.156.0.130/v3/signin/identifier\"\n",
    "url_input = \" https://material-badge.surge.sh\"\n",
    "\n",
    "df = pd.DataFrame([])"
   ]
  },
  {
   "cell_type": "markdown",
   "id": "5d689270",
   "metadata": {},
   "source": [
    "## Preprocessing"
   ]
  },
  {
   "cell_type": "markdown",
   "id": "2d592219",
   "metadata": {},
   "source": [
    "### 3.1 IP Address Detection"
   ]
  },
  {
   "cell_type": "code",
   "execution_count": 159,
   "id": "e0a872dc",
   "metadata": {},
   "outputs": [
    {
     "name": "stdout",
     "output_type": "stream",
     "text": [
      "                                url  use_of_ip\n",
      "0   https://material-badge.surge.sh          0\n"
     ]
    }
   ],
   "source": [
    "# Use of IP or not in domain\n",
    "def having_ip_address(url):\n",
    "    match = re.search(\n",
    "        '(([01]?\\\\d\\\\d?|2[0-4]\\\\d|25[0-5])\\\\.([01]?\\\\d\\\\d?|2[0-4]\\\\d|25[0-5])\\\\.([01]?\\\\d\\\\d?|2[0-4]\\\\d|25[0-5])\\\\.'\n",
    "        '([01]?\\\\d\\\\d?|2[0-4]\\\\d|25[0-5])\\\\/)|'  # IPv4\n",
    "        '((0x[0-9a-fA-F]{1,2})\\\\.(0x[0-9a-fA-F]{1,2})\\\\.(0x[0-9a-fA-F]{1,2})\\\\.(0x[0-9a-fA-F]{1,2})\\\\/)' # IPv4 in hexadecimal\n",
    "        '(?:[a-fA-F0-9]{1,4}:){7}[a-fA-F0-9]{1,4}', url)  # Ipv6\n",
    "    \n",
    "    if match:\n",
    "        return 1\n",
    "    else:\n",
    "        return 0\n",
    "\n",
    "df = pd.DataFrame([{\"url\": url_input}])\n",
    "\n",
    "df['use_of_ip'] = df['url'].apply(having_ip_address)\n",
    "\n",
    "print(df)"
   ]
  },
  {
   "cell_type": "code",
   "execution_count": 160,
   "id": "deb2d025",
   "metadata": {},
   "outputs": [
    {
     "data": {
      "text/html": [
       "<div>\n",
       "<style scoped>\n",
       "    .dataframe tbody tr th:only-of-type {\n",
       "        vertical-align: middle;\n",
       "    }\n",
       "\n",
       "    .dataframe tbody tr th {\n",
       "        vertical-align: top;\n",
       "    }\n",
       "\n",
       "    .dataframe thead th {\n",
       "        text-align: right;\n",
       "    }\n",
       "</style>\n",
       "<table border=\"1\" class=\"dataframe\">\n",
       "  <thead>\n",
       "    <tr style=\"text-align: right;\">\n",
       "      <th></th>\n",
       "      <th>url</th>\n",
       "      <th>use_of_ip</th>\n",
       "    </tr>\n",
       "  </thead>\n",
       "  <tbody>\n",
       "  </tbody>\n",
       "</table>\n",
       "</div>"
      ],
      "text/plain": [
       "Empty DataFrame\n",
       "Columns: [url, use_of_ip]\n",
       "Index: []"
      ]
     },
     "execution_count": 160,
     "metadata": {},
     "output_type": "execute_result"
    }
   ],
   "source": [
    "df[df['use_of_ip'] == 1]"
   ]
  },
  {
   "cell_type": "markdown",
   "id": "a8b0473a",
   "metadata": {},
   "source": [
    "### 3.2 Abnormal URL"
   ]
  },
  {
   "cell_type": "code",
   "execution_count": 161,
   "id": "bb435b88",
   "metadata": {},
   "outputs": [
    {
     "name": "stdout",
     "output_type": "stream",
     "text": [
      "abnormal_url\n",
      "1    1\n",
      "Name: count, dtype: int64\n",
      "                                url  use_of_ip  abnormal_url\n",
      "0   https://material-badge.surge.sh          0             1\n"
     ]
    }
   ],
   "source": [
    "def abnormal_url(url):\n",
    "    hostname = urlparse(url).hostname\n",
    "    hostname = str(hostname)\n",
    "    match = re.search(hostname, url)\n",
    "    if match:      \n",
    "        return 1\n",
    "    else:\n",
    "        return 0\n",
    "\n",
    "df['abnormal_url'] = df['url'].apply(lambda i: abnormal_url(i))\n",
    "print(df['abnormal_url'].value_counts())\n",
    "print(df)"
   ]
  },
  {
   "cell_type": "markdown",
   "id": "9766092c",
   "metadata": {},
   "source": [
    "### 3.3 Google Index"
   ]
  },
  {
   "cell_type": "code",
   "execution_count": 162,
   "id": "af2ec306",
   "metadata": {},
   "outputs": [],
   "source": [
    "def google_index(url):\n",
    "    \n",
    "    site = search(url, 5)\n",
    "    return 1 if site else 0\n",
    "\n",
    "df['google_index'] = df['url'].apply(lambda i: google_index(i))"
   ]
  },
  {
   "cell_type": "code",
   "execution_count": 163,
   "id": "ba6b8639",
   "metadata": {},
   "outputs": [
    {
     "name": "stdout",
     "output_type": "stream",
     "text": [
      " https://material-badge.surge.sh\n"
     ]
    }
   ],
   "source": [
    "print(df['url'][0])\n",
    "\n",
    "for j in search(df['url'][0], num_results=10):\n",
    "    print(j)"
   ]
  },
  {
   "cell_type": "code",
   "execution_count": 164,
   "id": "32b7f0bb",
   "metadata": {},
   "outputs": [
    {
     "name": "stdout",
     "output_type": "stream",
     "text": [
      "google_index\n",
      "1    1\n",
      "Name: count, dtype: int64\n",
      "                                url  use_of_ip  abnormal_url  google_index\n",
      "0   https://material-badge.surge.sh          0             1             1\n"
     ]
    }
   ],
   "source": [
    "df['google_index'].value_counts()\n",
    "print(df['google_index'].value_counts())\n",
    "print(df)"
   ]
  },
  {
   "cell_type": "markdown",
   "id": "442d54eb",
   "metadata": {},
   "source": [
    "### 3.4 Count Features"
   ]
  },
  {
   "cell_type": "code",
   "execution_count": 165,
   "id": "fa16428b",
   "metadata": {},
   "outputs": [],
   "source": [
    "# Count dot (.)\n",
    "def count_dot(url):\n",
    "    count_dot = url.count('.')\n",
    "    return count_dot\n",
    "\n",
    "df['count_.'] = df['url'].apply(lambda i: count_dot(i))\n",
    "\n",
    "# Count www\n",
    "def count_www(url):\n",
    "    url.count('www')\n",
    "    return url.count('www')\n",
    "\n",
    "df['count_www'] = df['url'].apply(lambda i: count_www(i))\n",
    "\n",
    "# Count @\n",
    "def count_atrate(url):\n",
    "    return url.count('@')\n",
    "\n",
    "df['count_@'] = df['url'].apply(lambda i: count_atrate(i))\n",
    "\n",
    "# Count directories\n",
    "def no_of_dir(url):\n",
    "    urldir = urlparse(url).path\n",
    "    return urldir.count('/')\n",
    "\n",
    "df['count_dir'] = df['url'].apply(lambda i: no_of_dir(i))\n",
    "\n",
    "# Count embedded domains\n",
    "def no_of_embed(url):\n",
    "    urldir = urlparse(url).path\n",
    "    return urldir.count('//')\n",
    "\n",
    "df['count_embed_domain'] = df['url'].apply(lambda i: no_of_embed(i))\n",
    "\n"
   ]
  },
  {
   "cell_type": "markdown",
   "id": "543646b8",
   "metadata": {},
   "source": [
    "### 3.5 Suspicious Words Detection"
   ]
  },
  {
   "cell_type": "code",
   "execution_count": 166,
   "id": "be0f6569",
   "metadata": {},
   "outputs": [],
   "source": [
    "def suspicious_words(url):\n",
    "    match = re.search('PayPal|login|signin|bank|account|update|free|lucky|service|bonus|ebayisapi|webscr',\n",
    "                      url)\n",
    "    if match:\n",
    "        return 1\n",
    "    else:\n",
    "        return 0\n",
    "    \n",
    "df['sus_url'] = df['url'].apply(lambda i: suspicious_words(i))"
   ]
  },
  {
   "cell_type": "code",
   "execution_count": 167,
   "id": "7d7edbf8",
   "metadata": {},
   "outputs": [
    {
     "name": "stdout",
     "output_type": "stream",
     "text": [
      "sus_url\n",
      "0    1\n",
      "Name: count, dtype: int64\n",
      "                                url  use_of_ip  abnormal_url  google_index  \\\n",
      "0   https://material-badge.surge.sh          0             1             1   \n",
      "\n",
      "   count_.  count_www  count_@  count_dir  count_embed_domain  sus_url  \n",
      "0        2          0        0          0                   0        0  \n"
     ]
    }
   ],
   "source": [
    "df['sus_url'].value_counts()\n",
    "print(df['sus_url'].value_counts())\n",
    "print(df)"
   ]
  },
  {
   "cell_type": "markdown",
   "id": "18f0b32a",
   "metadata": {},
   "source": [
    "### 3.6 URL Shortening Service Detection"
   ]
  },
  {
   "cell_type": "code",
   "execution_count": 168,
   "id": "158f4615",
   "metadata": {},
   "outputs": [],
   "source": [
    "def shortening_service(url):\n",
    "    match = re.search(r'bit\\.ly|goo\\.gl|shorte\\.st|go2l\\.ink|x\\.co|ow\\.ly|t\\.co|tinyurl|tr\\.im|is\\.gd|cli\\.gs|'\n",
    "                      r'yfrog\\.com|migre\\.me|ff\\.im|tiny\\.cc|url4\\.eu|twit\\.ac|su\\.pr|twurl\\.nl|snipurl\\.com|'\n",
    "                      r'short\\.to|BudURL\\.com|ping\\.fm|post\\.ly|Just\\.as|bkite\\.com|snipr\\.com|fic\\.kr|loopt\\.us|'\n",
    "                      r'doiop\\.com|short\\.ie|kl\\.am|wp\\.me|rubyurl\\.com|om\\.ly|to\\.ly|bit\\.do|t\\.co|lnkd\\.in|'\n",
    "                      r'db\\.tt|qr\\.ae|adf\\.ly|goo\\.gl|bitly\\.com|cur\\.lv|tinyurl\\.com|ow\\.ly|bit\\.ly|ity\\.im|'\n",
    "                      r'q\\.gs|is\\.gd|po\\.st|bc\\.vc|twitthis\\.com|u\\.to|j\\.mp|buzurl\\.com|cutt\\.us|u\\.bb|yourls\\.org|'\n",
    "                      r'x\\.co|prettylinkpro\\.com|scrnch\\.me|filoops\\.info|vzturl\\.com|qr\\.net|1url\\.com|tweez\\.me|v\\.gd|'\n",
    "                      r'tr\\.im|link\\.zip\\.net',\n",
    "                      url)\n",
    "    if match:\n",
    "        return 1\n",
    "    else:\n",
    "        return 0\n",
    "    \n",
    "df['short_url'] = df['url'].apply(lambda i: shortening_service(i))"
   ]
  },
  {
   "cell_type": "code",
   "execution_count": 169,
   "id": "b7a32006",
   "metadata": {},
   "outputs": [
    {
     "name": "stdout",
     "output_type": "stream",
     "text": [
      "short_url\n",
      "0    1\n",
      "Name: count, dtype: int64\n",
      "                                url  use_of_ip  abnormal_url  google_index  \\\n",
      "0   https://material-badge.surge.sh          0             1             1   \n",
      "\n",
      "   count_.  count_www  count_@  count_dir  count_embed_domain  sus_url  \\\n",
      "0        2          0        0          0                   0        0   \n",
      "\n",
      "   short_url  \n",
      "0          0  \n"
     ]
    }
   ],
   "source": [
    "df['short_url'].value_counts()\n",
    "print(df['short_url'].value_counts())\n",
    "print(df)"
   ]
  },
  {
   "cell_type": "markdown",
   "id": "9f7d7dab",
   "metadata": {},
   "source": [
    "### 3.7 Protocol Counts"
   ]
  },
  {
   "cell_type": "code",
   "execution_count": 170,
   "id": "3a475dcf",
   "metadata": {},
   "outputs": [],
   "source": [
    "# Count https\n",
    "def count_https(url):\n",
    "    return url.count('https')\n",
    "\n",
    "df['count_https'] = df['url'].apply(lambda i: count_https(i))\n",
    "\n",
    "# Count http\n",
    "def count_http(url):\n",
    "    return url.count('http')\n",
    "\n",
    "df['count_http'] = df['url'].apply(lambda i: count_http(i))"
   ]
  },
  {
   "cell_type": "code",
   "execution_count": 171,
   "id": "61e15252",
   "metadata": {},
   "outputs": [
    {
     "name": "stdout",
     "output_type": "stream",
     "text": [
      "count_http\n",
      "1    1\n",
      "Name: count, dtype: int64\n",
      "                                url  use_of_ip  abnormal_url  google_index  \\\n",
      "0   https://material-badge.surge.sh          0             1             1   \n",
      "\n",
      "   count_.  count_www  count_@  count_dir  count_embed_domain  sus_url  \\\n",
      "0        2          0        0          0                   0        0   \n",
      "\n",
      "   short_url  count_https  count_http  \n",
      "0          0            1           1  \n"
     ]
    }
   ],
   "source": [
    "df['count_http'].value_counts()\n",
    "print(df['count_http'].value_counts())\n",
    "print(df)"
   ]
  },
  {
   "cell_type": "markdown",
   "id": "1540387d",
   "metadata": {},
   "source": [
    "### 3.8 Special Character Counts"
   ]
  },
  {
   "cell_type": "code",
   "execution_count": 172,
   "id": "90041b7d",
   "metadata": {},
   "outputs": [],
   "source": [
    "# Count %\n",
    "def count_per(url):\n",
    "    return url.count('%')\n",
    "\n",
    "df['count%'] = df['url'].apply(lambda i: count_per(i))\n",
    "\n",
    "# Count ?\n",
    "def count_ques(url):\n",
    "    return url.count('?')\n",
    "\n",
    "df['count?'] = df['url'].apply(lambda i: count_ques(i))\n",
    "\n",
    "# Count -\n",
    "def count_hyphen(url):\n",
    "    return url.count('-')\n",
    "\n",
    "df['count-'] = df['url'].apply(lambda i: count_hyphen(i))\n",
    "\n",
    "# Count =\n",
    "def count_equal(url):\n",
    "    return url.count('=')\n",
    "\n",
    "df['count='] = df['url'].apply(lambda i: count_equal(i))"
   ]
  },
  {
   "cell_type": "code",
   "execution_count": 173,
   "id": "fae91736",
   "metadata": {},
   "outputs": [
    {
     "name": "stdout",
     "output_type": "stream",
     "text": [
      "                                url  use_of_ip  abnormal_url  google_index  \\\n",
      "0   https://material-badge.surge.sh          0             1             1   \n",
      "\n",
      "   count_.  count_www  count_@  count_dir  count_embed_domain  sus_url  \\\n",
      "0        2          0        0          0                   0        0   \n",
      "\n",
      "   short_url  count_https  count_http  count%  count?  count-  count=  \n",
      "0          0            1           1       0       0       1       0  \n"
     ]
    }
   ],
   "source": [
    "print(df)"
   ]
  },
  {
   "cell_type": "markdown",
   "id": "9617ae62",
   "metadata": {},
   "source": [
    "### 3.9 Length Features"
   ]
  },
  {
   "cell_type": "code",
   "execution_count": 174,
   "id": "d24894e7",
   "metadata": {},
   "outputs": [],
   "source": [
    "# URL length\n",
    "def url_length(url):\n",
    "    return len(str(url))\n",
    "\n",
    "df['url_length'] = df['url'].apply(lambda i: url_length(i))\n",
    "\n",
    "# Hostname length\n",
    "def hostname_length(url):\n",
    "    return len(urlparse(url).netloc)\n",
    "\n",
    "df['hostname_length'] = df['url'].apply(lambda i: hostname_length(i))"
   ]
  },
  {
   "cell_type": "code",
   "execution_count": 175,
   "id": "1bc487a3",
   "metadata": {},
   "outputs": [
    {
     "name": "stdout",
     "output_type": "stream",
     "text": [
      "                                url  use_of_ip  abnormal_url  google_index  \\\n",
      "0   https://material-badge.surge.sh          0             1             1   \n",
      "\n",
      "   count_.  count_www  count_@  count_dir  count_embed_domain  sus_url  \\\n",
      "0        2          0        0          0                   0        0   \n",
      "\n",
      "   short_url  count_https  count_http  count%  count?  count-  count=  \\\n",
      "0          0            1           1       0       0       1       0   \n",
      "\n",
      "   url_length  hostname_length  \n",
      "0          32               23  \n"
     ]
    }
   ],
   "source": [
    "print(df)"
   ]
  },
  {
   "cell_type": "markdown",
   "id": "e65de26e",
   "metadata": {},
   "source": [
    "### 3.10 Domain Features"
   ]
  },
  {
   "cell_type": "code",
   "execution_count": 176,
   "id": "4279ebb5",
   "metadata": {},
   "outputs": [],
   "source": [
    "# First directory length\n",
    "def fd_length(url):\n",
    "    urlpath = urlparse(url).path\n",
    "    try:\n",
    "        return len(urlpath.split('/')[1])\n",
    "    except:\n",
    "        return 0\n",
    "\n",
    "df['fd_length'] = df['url'].apply(lambda i: fd_length(i))\n",
    "\n",
    "# TLD length\n",
    "def tld_length(tld):\n",
    "    try:\n",
    "        return len(tld)\n",
    "    except:\n",
    "        return -1\n",
    "\n",
    "df['tld'] = df['url'].apply(lambda i: get_tld(i, fail_silently=True))\n",
    "df['tld_length'] = df['tld'].apply(lambda i: tld_length(i))\n",
    "df = df.drop(\"tld\", axis=1)"
   ]
  },
  {
   "cell_type": "code",
   "execution_count": 177,
   "id": "d0025cb7",
   "metadata": {},
   "outputs": [
    {
     "name": "stdout",
     "output_type": "stream",
     "text": [
      "                                url  use_of_ip  abnormal_url  google_index  \\\n",
      "0   https://material-badge.surge.sh          0             1             1   \n",
      "\n",
      "   count_.  count_www  count_@  count_dir  count_embed_domain  sus_url  ...  \\\n",
      "0        2          0        0          0                   0        0  ...   \n",
      "\n",
      "   count_https  count_http  count%  count?  count-  count=  url_length  \\\n",
      "0            1           1       0       0       1       0          32   \n",
      "\n",
      "   hostname_length  fd_length  tld_length  \n",
      "0               23          0           2  \n",
      "\n",
      "[1 rows x 21 columns]\n"
     ]
    }
   ],
   "source": [
    "print(df)"
   ]
  },
  {
   "cell_type": "markdown",
   "id": "750df503",
   "metadata": {},
   "source": [
    "### 3.11 Character Counts"
   ]
  },
  {
   "cell_type": "code",
   "execution_count": 178,
   "id": "40bda232",
   "metadata": {},
   "outputs": [],
   "source": [
    "# Count digits\n",
    "def digit_count(url):\n",
    "    digits = 0\n",
    "    for i in url:\n",
    "        if i.isnumeric():\n",
    "            digits = digits + 1\n",
    "    return digits\n",
    "\n",
    "df['count_digits'] = df['url'].apply(lambda i: digit_count(i))\n",
    "\n",
    "# Count letters\n",
    "def letter_count(url):\n",
    "    letters = 0\n",
    "    for i in url:\n",
    "        if i.isalpha():\n",
    "            letters = letters + 1\n",
    "    return letters\n",
    "\n",
    "df['count_letters'] = df['url'].apply(lambda i: letter_count(i))"
   ]
  },
  {
   "cell_type": "code",
   "execution_count": 179,
   "id": "7d18c91e",
   "metadata": {},
   "outputs": [
    {
     "name": "stdout",
     "output_type": "stream",
     "text": [
      "                                url  use_of_ip  abnormal_url  google_index  \\\n",
      "0   https://material-badge.surge.sh          0             1             1   \n",
      "\n",
      "   count_.  count_www  count_@  count_dir  count_embed_domain  sus_url  ...  \\\n",
      "0        2          0        0          0                   0        0  ...   \n",
      "\n",
      "   count%  count?  count-  count=  url_length  hostname_length  fd_length  \\\n",
      "0       0       0       1       0          32               23          0   \n",
      "\n",
      "   tld_length  count_digits  count_letters  \n",
      "0           2             0             25  \n",
      "\n",
      "[1 rows x 23 columns]\n"
     ]
    }
   ],
   "source": [
    "print(df.head())"
   ]
  },
  {
   "cell_type": "markdown",
   "id": "12998cc1",
   "metadata": {},
   "source": [
    "## Scale features\n",
    "\n",
    "**Example error**\n",
    "\n",
    "ValueError: The feature names should match those that were passed during fit.\n",
    "Feature names unseen at fit time:\n",
    "- google_index\n",
    "- url"
   ]
  },
  {
   "cell_type": "code",
   "execution_count": 180,
   "id": "f4a7810b",
   "metadata": {},
   "outputs": [
    {
     "name": "stdout",
     "output_type": "stream",
     "text": [
      "                                url  use_of_ip  abnormal_url  google_index  \\\n",
      "0   https://material-badge.surge.sh          0             1             1   \n",
      "\n",
      "   count_.  count_www  count_@  count_dir  count_embed_domain  sus_url  ...  \\\n",
      "0        2          0        0          0                   0        0  ...   \n",
      "\n",
      "   count%  count?  count-  count=  url_length  hostname_length  fd_length  \\\n",
      "0       0       0       1       0          32               23          0   \n",
      "\n",
      "   tld_length  count_digits  count_letters  \n",
      "0           2             0             25  \n",
      "\n",
      "[1 rows x 23 columns]\n"
     ]
    }
   ],
   "source": [
    "print(df)"
   ]
  },
  {
   "cell_type": "code",
   "execution_count": 181,
   "id": "50854db1",
   "metadata": {},
   "outputs": [
    {
     "name": "stdout",
     "output_type": "stream",
     "text": [
      "[[-0.18181818  1.25723711 -0.20169335 -0.44073589 -0.03875891 -1.43864441\n",
      "  -0.04569117 -0.25819889 -0.08920958 -0.49589195 -0.14732529 -0.38491076\n",
      "  -0.60885264  2.90423502  1.20405461  1.55701551 -0.24983394 -0.77383053\n",
      "   0.65910167 -0.5537983  -0.56834967]]\n"
     ]
    }
   ],
   "source": [
    "df_to_scale = df[scaler.feature_names_in_]\n",
    "\n",
    "while True:\n",
    "    try:\n",
    "        scaled_data = scaler.transform(df_to_scale)\n",
    "        break\n",
    "    except ValueError as e:\n",
    "        msg = str(e)\n",
    "\n",
    "        if \"Feature names unseen at fit time\" in msg:\n",
    "            start = msg.find(\"Feature names unseen at fit time:\") + len(\"Feature names unseen at fit time:\")\n",
    "            end = msg.find(\"\\n\", start)\n",
    "            unseen_cols = msg[start:end].strip().replace(\"-\", \"\").split()\n",
    "            unseen_cols = [c.strip() for c in unseen_cols if c.strip()]\n",
    "            print(\"Removing unused columns:\", unseen_cols)\n",
    "            df_to_scale = df_to_scale.drop(columns=unseen_cols, errors='ignore')\n",
    "        else:\n",
    "            raise e\n",
    "\n",
    "print(scaled_data)\n"
   ]
  },
  {
   "cell_type": "markdown",
   "id": "cca88a28",
   "metadata": {},
   "source": [
    "## Predict"
   ]
  },
  {
   "cell_type": "markdown",
   "id": "b931f973",
   "metadata": {},
   "source": [
    "### Validate check"
   ]
  },
  {
   "cell_type": "code",
   "execution_count": 182,
   "id": "e6a78697",
   "metadata": {},
   "outputs": [],
   "source": [
    "try:\n",
    "  check_is_fitted(model)\n",
    "except Exception as e:\n",
    "  print(e)\n",
    "\n",
    "  # model.fit(X_train, y_train)"
   ]
  },
  {
   "cell_type": "code",
   "execution_count": 183,
   "id": "ebfde3ba",
   "metadata": {},
   "outputs": [
    {
     "name": "stdout",
     "output_type": "stream",
     "text": [
      "SVC(probability=True, random_state=42)\n",
      "[0]\n"
     ]
    }
   ],
   "source": [
    "print(model)\n",
    "\n",
    "numeric_pred = model.predict(scaled_data)\n",
    "print(numeric_pred)"
   ]
  },
  {
   "cell_type": "code",
   "execution_count": 184,
   "id": "c9824b4b",
   "metadata": {},
   "outputs": [
    {
     "name": "stdout",
     "output_type": "stream",
     "text": [
      "[False]\n"
     ]
    }
   ],
   "source": [
    "label_pred = lebel.inverse_transform(numeric_pred)\n",
    "print(label_pred)"
   ]
  }
 ],
 "metadata": {
  "kernelspec": {
   "display_name": ".venv",
   "language": "python",
   "name": "python3"
  },
  "language_info": {
   "codemirror_mode": {
    "name": "ipython",
    "version": 3
   },
   "file_extension": ".py",
   "mimetype": "text/x-python",
   "name": "python",
   "nbconvert_exporter": "python",
   "pygments_lexer": "ipython3",
   "version": "3.13.7"
  }
 },
 "nbformat": 4,
 "nbformat_minor": 5
}
