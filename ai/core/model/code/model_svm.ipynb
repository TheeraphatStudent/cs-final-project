{
 "cells": [
  {
   "cell_type": "markdown",
   "id": "e9b4c8cf",
   "metadata": {},
   "source": [
    "# URL Classification with Support Vector Machine (SVM)\n",
    "This notebook implements URL classification (malicious URL detection) using SVM algorithm.\n",
    "It includes comprehensive feature engineering, feature scaling, and model evaluation."
   ]
  },
  {
   "cell_type": "markdown",
   "id": "2e37d20e",
   "metadata": {},
   "source": [
    "## 1. Import Libraries"
   ]
  },
  {
   "cell_type": "code",
   "execution_count": 5,
   "id": "9aa26b08",
   "metadata": {},
   "outputs": [
    {
     "ename": "OSError",
     "evalue": "libcusparse.so.9.0: cannot open shared object file: No such file or directory",
     "output_type": "error",
     "traceback": [
      "\u001b[31m---------------------------------------------------------------------------\u001b[39m",
      "\u001b[31mOSError\u001b[39m                                   Traceback (most recent call last)",
      "\u001b[36mCell\u001b[39m\u001b[36m \u001b[39m\u001b[32mIn[5]\u001b[39m\u001b[32m, line 21\u001b[39m\n\u001b[32m     18\u001b[39m \u001b[38;5;28;01mfrom\u001b[39;00m\u001b[38;5;250m \u001b[39m\u001b[34;01mwordcloud\u001b[39;00m\u001b[38;5;250m \u001b[39m\u001b[38;5;28;01mimport\u001b[39;00m WordCloud\n\u001b[32m     20\u001b[39m \u001b[38;5;66;03m# Cuda core\u001b[39;00m\n\u001b[32m---> \u001b[39m\u001b[32m21\u001b[39m \u001b[38;5;28;01mfrom\u001b[39;00m\u001b[38;5;250m \u001b[39m\u001b[34;01mthundersvm\u001b[39;00m\u001b[38;5;250m \u001b[39m\u001b[38;5;28;01mimport\u001b[39;00m SVC \u001b[38;5;28;01mas\u001b[39;00m ThunderSVC\n\u001b[32m     23\u001b[39m \u001b[38;5;66;03m# import warnings\u001b[39;00m\n\u001b[32m     24\u001b[39m \u001b[38;5;66;03m# warnings.filterwarnings('ignore')\u001b[39;00m\n\u001b[32m     25\u001b[39m \n\u001b[32m     26\u001b[39m \u001b[38;5;66;03m# CONFIG\u001b[39;00m\n\u001b[32m     27\u001b[39m DATA_PATH = \u001b[33m\"\u001b[39m\u001b[33m../artifacts/dataset/data.csv\u001b[39m\u001b[33m\"\u001b[39m\n",
      "\u001b[36mFile \u001b[39m\u001b[32m~/Desktop/Project/malsy_gate/ai/core/model/code/.venv/lib64/python3.13/site-packages/thundersvm/__init__.py:10\u001b[39m\n\u001b[32m      3\u001b[39m \u001b[33;03m\"\"\"\u001b[39;00m\n\u001b[32m      4\u001b[39m \u001b[33;03m * Name        : __init__.py\u001b[39;00m\n\u001b[32m      5\u001b[39m \u001b[33;03m * Author      : Locke <luojiahuan001@gmail.com>\u001b[39;00m\n\u001b[32m      6\u001b[39m \u001b[33;03m * Version     : 0.0.1\u001b[39;00m\n\u001b[32m      7\u001b[39m \u001b[33;03m * Description :\u001b[39;00m\n\u001b[32m      8\u001b[39m \u001b[33;03m\"\"\"\u001b[39;00m\n\u001b[32m      9\u001b[39m name = \u001b[33m\"\u001b[39m\u001b[33mthundersvm\u001b[39m\u001b[33m\"\u001b[39m\n\u001b[32m---> \u001b[39m\u001b[32m10\u001b[39m \u001b[38;5;28;01mfrom\u001b[39;00m\u001b[38;5;250m \u001b[39m\u001b[34;01m.\u001b[39;00m\u001b[34;01mthundersvm\u001b[39;00m\u001b[38;5;250m \u001b[39m\u001b[38;5;28;01mimport\u001b[39;00m *\n",
      "\u001b[36mFile \u001b[39m\u001b[32m~/Desktop/Project/malsy_gate/ai/core/model/code/.venv/lib64/python3.13/site-packages/thundersvm/thundersvm.py:39\u001b[39m\n\u001b[32m     36\u001b[39m         lib_path = path.join(dirname, shared_library_name)\n\u001b[32m     38\u001b[39m \u001b[38;5;28;01mif\u001b[39;00m path.exists(lib_path):\n\u001b[32m---> \u001b[39m\u001b[32m39\u001b[39m     thundersvm = \u001b[43mCDLL\u001b[49m\u001b[43m(\u001b[49m\u001b[43mlib_path\u001b[49m\u001b[43m)\u001b[49m\n\u001b[32m     40\u001b[39m \u001b[38;5;28;01melse\u001b[39;00m:\n\u001b[32m     41\u001b[39m     \u001b[38;5;66;03m# try the build directory\u001b[39;00m\n\u001b[32m     42\u001b[39m     \u001b[38;5;28;01mif\u001b[39;00m platform == \u001b[33m\"\u001b[39m\u001b[33mlinux\u001b[39m\u001b[33m\"\u001b[39m \u001b[38;5;129;01mor\u001b[39;00m platform == \u001b[33m\"\u001b[39m\u001b[33mlinux2\u001b[39m\u001b[33m\"\u001b[39m:\n",
      "\u001b[36mFile \u001b[39m\u001b[32m/usr/lib64/python3.13/ctypes/__init__.py:390\u001b[39m, in \u001b[36mCDLL.__init__\u001b[39m\u001b[34m(self, name, mode, handle, use_errno, use_last_error, winmode)\u001b[39m\n\u001b[32m    387\u001b[39m \u001b[38;5;28mself\u001b[39m._FuncPtr = _FuncPtr\n\u001b[32m    389\u001b[39m \u001b[38;5;28;01mif\u001b[39;00m handle \u001b[38;5;129;01mis\u001b[39;00m \u001b[38;5;28;01mNone\u001b[39;00m:\n\u001b[32m--> \u001b[39m\u001b[32m390\u001b[39m     \u001b[38;5;28mself\u001b[39m._handle = \u001b[43m_dlopen\u001b[49m\u001b[43m(\u001b[49m\u001b[38;5;28;43mself\u001b[39;49m\u001b[43m.\u001b[49m\u001b[43m_name\u001b[49m\u001b[43m,\u001b[49m\u001b[43m \u001b[49m\u001b[43mmode\u001b[49m\u001b[43m)\u001b[49m\n\u001b[32m    391\u001b[39m \u001b[38;5;28;01melse\u001b[39;00m:\n\u001b[32m    392\u001b[39m     \u001b[38;5;28mself\u001b[39m._handle = handle\n",
      "\u001b[31mOSError\u001b[39m: libcusparse.so.9.0: cannot open shared object file: No such file or directory"
     ]
    }
   ],
   "source": [
    "# Core libraries\n",
    "import numpy as np\n",
    "import pandas as pd\n",
    "import matplotlib.pyplot as plt\n",
    "import seaborn as sns\n",
    "import re\n",
    "from urllib.parse import urlparse\n",
    "from tld import get_tld\n",
    "import os.path\n",
    "\n",
    "# ML libraries\n",
    "from sklearn.preprocessing import LabelEncoder, StandardScaler\n",
    "from sklearn.model_selection import train_test_split\n",
    "from sklearn.svm import SVC\n",
    "from sklearn.metrics import accuracy_score, precision_recall_fscore_support, classification_report\n",
    "from sklearn.metrics import confusion_matrix\n",
    "import joblib\n",
    "from wordcloud import WordCloud\n",
    "\n",
    "# Cuda core\n",
    "from thundersvm import SVC as ThunderSVC\n",
    "\n",
    "# import warnings\n",
    "# warnings.filterwarnings('ignore')\n",
    "\n",
    "# CONFIG\n",
    "DATA_PATH = \"../artifacts/dataset/data.csv\"\n",
    "ATTATCH_PATH=\"./attach\"\n",
    "APP_NAME='Malsy Gate'\n"
   ]
  },
  {
   "cell_type": "markdown",
   "id": "a07bcd42",
   "metadata": {},
   "source": [
    "## 2. Load Dataset"
   ]
  },
  {
   "cell_type": "code",
   "execution_count": 12,
   "id": "d9952dc6",
   "metadata": {},
   "outputs": [
    {
     "name": "stdout",
     "output_type": "stream",
     "text": [
      "Dataset shape: (651191, 2)\n",
      "\n",
      "Dataset columns: ['url', 'type']\n",
      "\n",
      "Dataset head:\n"
     ]
    },
    {
     "data": {
      "text/html": [
       "<div>\n",
       "<style scoped>\n",
       "    .dataframe tbody tr th:only-of-type {\n",
       "        vertical-align: middle;\n",
       "    }\n",
       "\n",
       "    .dataframe tbody tr th {\n",
       "        vertical-align: top;\n",
       "    }\n",
       "\n",
       "    .dataframe thead th {\n",
       "        text-align: right;\n",
       "    }\n",
       "</style>\n",
       "<table border=\"1\" class=\"dataframe\">\n",
       "  <thead>\n",
       "    <tr style=\"text-align: right;\">\n",
       "      <th></th>\n",
       "      <th>url</th>\n",
       "      <th>type</th>\n",
       "    </tr>\n",
       "  </thead>\n",
       "  <tbody>\n",
       "    <tr>\n",
       "      <th>0</th>\n",
       "      <td>br-icloud.com.br</td>\n",
       "      <td>phishing</td>\n",
       "    </tr>\n",
       "    <tr>\n",
       "      <th>1</th>\n",
       "      <td>mp3raid.com/music/krizz_kaliko.html</td>\n",
       "      <td>benign</td>\n",
       "    </tr>\n",
       "    <tr>\n",
       "      <th>2</th>\n",
       "      <td>bopsecrets.org/rexroth/cr/1.htm</td>\n",
       "      <td>benign</td>\n",
       "    </tr>\n",
       "    <tr>\n",
       "      <th>3</th>\n",
       "      <td>http://www.garage-pirenne.be/index.php?option=...</td>\n",
       "      <td>defacement</td>\n",
       "    </tr>\n",
       "    <tr>\n",
       "      <th>4</th>\n",
       "      <td>http://adventure-nicaragua.net/index.php?optio...</td>\n",
       "      <td>defacement</td>\n",
       "    </tr>\n",
       "  </tbody>\n",
       "</table>\n",
       "</div>"
      ],
      "text/plain": [
       "                                                 url        type\n",
       "0                                   br-icloud.com.br    phishing\n",
       "1                mp3raid.com/music/krizz_kaliko.html      benign\n",
       "2                    bopsecrets.org/rexroth/cr/1.htm      benign\n",
       "3  http://www.garage-pirenne.be/index.php?option=...  defacement\n",
       "4  http://adventure-nicaragua.net/index.php?optio...  defacement"
      ]
     },
     "execution_count": 12,
     "metadata": {},
     "output_type": "execute_result"
    }
   ],
   "source": [
    "# Load the Dataset\n",
    "df = pd.read_csv(DATA_PATH)\n",
    "print(f\"Dataset shape: {df.shape}\")\n",
    "print(f\"\\nDataset columns: {df.columns.tolist()}\")\n",
    "print(f\"\\nDataset head:\")\n",
    "df.head()"
   ]
  },
  {
   "cell_type": "code",
   "execution_count": 13,
   "id": "d32b7242",
   "metadata": {},
   "outputs": [
    {
     "name": "stdout",
     "output_type": "stream",
     "text": [
      "Data Info:\n",
      "<class 'pandas.core.frame.DataFrame'>\n",
      "RangeIndex: 651191 entries, 0 to 651190\n",
      "Data columns (total 2 columns):\n",
      " #   Column  Non-Null Count   Dtype \n",
      "---  ------  --------------   ----- \n",
      " 0   url     651191 non-null  object\n",
      " 1   type    651191 non-null  object\n",
      "dtypes: object(2)\n",
      "memory usage: 9.9+ MB\n",
      "\n",
      "Null values:\n",
      "url     0\n",
      "type    0\n",
      "dtype: int64\n",
      "\n",
      "Target distribution:\n",
      "type\n",
      "benign        428103\n",
      "defacement     96457\n",
      "phishing       94111\n",
      "malware        32520\n",
      "Name: count, dtype: int64\n"
     ]
    }
   ],
   "source": [
    "# Check data types and null values\n",
    "print(\"Data Info:\")\n",
    "df.info()\n",
    "print(\"\\nNull values:\")\n",
    "print(df.isnull().sum())\n",
    "print(\"\\nTarget distribution:\")\n",
    "print(df['type'].value_counts())"
   ]
  },
  {
   "cell_type": "code",
   "execution_count": null,
   "id": "35ecb527",
   "metadata": {},
   "outputs": [],
   "source": [
    "plt.figure(figsize= (10 , 5))\n",
    "plt.title('Distribution of Types of Attacks')\n",
    "sns.countplot(x = 'type', data = df)\n",
    "# ax.bar_label(ax.containers[0])\n",
    "plt.xlabel('Attacks Type')\n",
    "\n",
    "plt.savefig(ATTATCH_PATH + '/type_of_accatck.png', bbox_inches='tight')"
   ]
  },
  {
   "cell_type": "markdown",
   "id": "2b2ffef0",
   "metadata": {},
   "source": [
    "### WordCloud of Different Types of Attacks"
   ]
  },
  {
   "cell_type": "code",
   "execution_count": null,
   "id": "f5040d60",
   "metadata": {},
   "outputs": [],
   "source": [
    "df_phish = df[df['type'] == 'phishing']\n",
    "df_benign = df[df['type'] == 'benign']\n",
    "df_deface = df[df['type'] == 'defacement']\n",
    "df_malware = df[df['type'] == 'malware']"
   ]
  },
  {
   "cell_type": "markdown",
   "id": "aafd4664",
   "metadata": {},
   "source": [
    "**Phishing Url**"
   ]
  },
  {
   "cell_type": "code",
   "execution_count": null,
   "id": "02ae9152",
   "metadata": {},
   "outputs": [],
   "source": [
    "phish_url = \" \".join(i for i in df_phish.url)\n",
    "# print(phish_url[0: 1000])\n",
    "wordcloud = WordCloud(\n",
    "    width=1600, \n",
    "    height=800, \n",
    "    background_color=\"white\",  \n",
    "    colormap=\"Set2\", \n",
    "    \n",
    ").generate(phish_url)\n",
    "\n",
    "\n",
    "plt.figure( figsize=(16,18),facecolor='black')\n",
    "plt.imshow(wordcloud, interpolation='bilinear')\n",
    "plt.axis(\"off\")\n",
    "plt.tight_layout(pad=0)\n",
    "plt.show()\n",
    "plt.savefig(ATTATCH_PATH + '/phish_wordcloud.png', bbox_inches='tight')"
   ]
  },
  {
   "cell_type": "markdown",
   "id": "2229767d",
   "metadata": {},
   "source": [
    "**Benign Url**"
   ]
  },
  {
   "cell_type": "code",
   "execution_count": null,
   "id": "f0920775",
   "metadata": {},
   "outputs": [],
   "source": [
    "benign_url = \" \".join(i for i in df_benign.url)\n",
    "\n",
    "wordcloud = WordCloud(\n",
    "    width=1600, \n",
    "    height=800, \n",
    "    background_color=\"white\",  \n",
    "    colormap=\"Set2\", \n",
    "    \n",
    ").generate(benign_url)\n",
    "\n",
    "\n",
    "plt.figure( figsize=(16,18),facecolor='black')\n",
    "plt.imshow(wordcloud, interpolation='bilinear')\n",
    "plt.axis(\"off\")\n",
    "plt.tight_layout(pad=0)\n",
    "plt.show()\n",
    "plt.savefig(ATTATCH_PATH + '/benign_wordcloud.png')"
   ]
  },
  {
   "cell_type": "markdown",
   "id": "ac43e0e3",
   "metadata": {},
   "source": [
    "**Defracment Url**"
   ]
  },
  {
   "cell_type": "code",
   "execution_count": null,
   "id": "09925761",
   "metadata": {},
   "outputs": [],
   "source": [
    "deface_url = \" \".join(i for i in df_deface.url)\n",
    "\n",
    "wordcloud = WordCloud(\n",
    "    width=1600, \n",
    "    height=800, \n",
    "    background_color=\"white\",  \n",
    "    colormap=\"Set2\", \n",
    "    \n",
    ").generate(deface_url)\n",
    "\n",
    "\n",
    "plt.figure( figsize=(16,18),facecolor='black')\n",
    "plt.imshow(wordcloud, interpolation='bilinear')\n",
    "plt.axis(\"off\")\n",
    "plt.tight_layout(pad=0)\n",
    "plt.show()\n",
    "plt.savefig(ATTATCH_PATH + '/deface_wordcloud.png')"
   ]
  },
  {
   "cell_type": "markdown",
   "id": "d0e4ad90",
   "metadata": {},
   "source": [
    "**Malware**"
   ]
  },
  {
   "cell_type": "code",
   "execution_count": null,
   "id": "64eeffc1",
   "metadata": {},
   "outputs": [],
   "source": [
    "malware_url = \" \".join(i for i in df_malware.url)\n",
    "\n",
    "wordcloud = WordCloud(\n",
    "    width=1600, \n",
    "    height=800, \n",
    "    background_color=\"white\",  \n",
    "    colormap=\"Set2\", \n",
    "    \n",
    ").generate(malware_url)\n",
    "\n",
    "\n",
    "plt.figure( figsize=(16,18),facecolor='black')\n",
    "plt.imshow(wordcloud, interpolation='bilinear')\n",
    "plt.axis(\"off\")\n",
    "plt.tight_layout(pad=0)\n",
    "plt.show()\n",
    "plt.savefig(ATTATCH_PATH + '/malware_wordcloud.png')"
   ]
  },
  {
   "cell_type": "markdown",
   "id": "1656f041",
   "metadata": {},
   "source": [
    "## 3. Feature Extraction\n",
    "\n",
    "extract the following lexical features from raw URLs, as these features will be used as the input features for training the machine learning model. The following features are created as follows:"
   ]
  },
  {
   "cell_type": "markdown",
   "id": "e0d4ced0",
   "metadata": {},
   "source": [
    "### 3.1 IP Address Detection"
   ]
  },
  {
   "cell_type": "code",
   "execution_count": null,
   "id": "09ffa2a2",
   "metadata": {},
   "outputs": [],
   "source": [
    "# Use of IP or not in domain\n",
    "def having_ip_address(url):\n",
    "    match = re.search(\n",
    "        '(([01]?\\\\d\\\\d?|2[0-4]\\\\d|25[0-5])\\\\.([01]?\\\\d\\\\d?|2[0-4]\\\\d|25[0-5])\\\\.([01]?\\\\d\\\\d?|2[0-4]\\\\d|25[0-5])\\\\.'\n",
    "        '([01]?\\\\d\\\\d?|2[0-4]\\\\d|25[0-5])\\\\/)|'  # IPv4\n",
    "        '((0x[0-9a-fA-F]{1,2})\\\\.(0x[0-9a-fA-F]{1,2})\\\\.(0x[0-9a-fA-F]{1,2})\\\\.(0x[0-9a-fA-F]{1,2})\\\\/)' # IPv4 in hexadecimal\n",
    "        '(?:[a-fA-F0-9]{1,4}:){7}[a-fA-F0-9]{1,4}', url)  # Ipv6\n",
    "    \n",
    "    if match:\n",
    "        return 1\n",
    "    else:\n",
    "        return 0\n",
    "\n",
    "df['use_of_ip'] = df['url'].apply(lambda i: having_ip_address(i))\n",
    "print(df['use_of_ip'].value_counts())"
   ]
  },
  {
   "cell_type": "code",
   "execution_count": null,
   "id": "224ec523",
   "metadata": {},
   "outputs": [],
   "source": [
    "df[df['use_of_ip'] == 1]"
   ]
  },
  {
   "cell_type": "code",
   "execution_count": null,
   "id": "06bfe1b3",
   "metadata": {},
   "outputs": [],
   "source": [
    "plt.figure(figsize = (8 , 6))\n",
    "sns.set(style=\"darkgrid\")\n",
    "ax = sns.countplot(x=\"type\", data=df, hue=\"use_of_ip\")\n",
    "plt.xlabel('Types of Attacks')\n",
    "plt.title(APP_NAME + \" - Usage of Ip Address\")"
   ]
  },
  {
   "cell_type": "markdown",
   "id": "18212490",
   "metadata": {},
   "source": [
    "**Shape data**"
   ]
  },
  {
   "cell_type": "code",
   "execution_count": null,
   "id": "883a00c3",
   "metadata": {},
   "outputs": [],
   "source": [
    "arr = np.where(df[df['type'] == 'benign']['use_of_ip'] == 1)\n",
    "arr[0].shape"
   ]
  },
  {
   "cell_type": "code",
   "execution_count": null,
   "id": "67d74a2a",
   "metadata": {},
   "outputs": [],
   "source": [
    "arr = np.where(df[df['type'] == 'malware']['use_of_ip'] == 1)\n",
    "arr[0].shape"
   ]
  },
  {
   "cell_type": "code",
   "execution_count": null,
   "id": "887d4db1",
   "metadata": {},
   "outputs": [],
   "source": [
    "arr = np.where(df[df['type'] == 'phishing']['use_of_ip'] == 1)\n",
    "arr[0].shape"
   ]
  },
  {
   "cell_type": "code",
   "execution_count": null,
   "id": "78b1cc2e",
   "metadata": {},
   "outputs": [],
   "source": [
    "arr = np.where(df[df['type'] == 'defacement']['use_of_ip'] == 1)\n",
    "arr[0].shape"
   ]
  },
  {
   "cell_type": "markdown",
   "id": "ee1888ed",
   "metadata": {},
   "source": [
    "### 3.2 Abnormal URL"
   ]
  },
  {
   "cell_type": "code",
   "execution_count": null,
   "id": "e5157613",
   "metadata": {},
   "outputs": [],
   "source": [
    "def abnormal_url(url):\n",
    "    hostname = urlparse(url).hostname\n",
    "    hostname = str(hostname)\n",
    "    match = re.search(hostname, url)\n",
    "    if match:      \n",
    "        return 1\n",
    "    else:\n",
    "        return 0\n",
    "\n",
    "df['abnormal_url'] = df['url'].apply(lambda i: abnormal_url(i))\n",
    "print(df['abnormal_url'].value_counts())"
   ]
  },
  {
   "cell_type": "code",
   "execution_count": null,
   "id": "d3d0ddca",
   "metadata": {},
   "outputs": [],
   "source": [
    "plt.figure(figsize = (8 , 6))\n",
    "sns.set(style=\"darkgrid\")\n",
    "ax = sns.countplot(x=\"type\", data=df, hue=\"abnormal_url\")\n",
    "plt.xlabel('Types of Attacks')\n",
    "plt.title(APP_NAME + \"- Usage of Ip Address in domain name in with Diffrent types of attacks\")"
   ]
  },
  {
   "cell_type": "markdown",
   "id": "d4e984b4",
   "metadata": {},
   "source": [
    "**Shape data**"
   ]
  },
  {
   "cell_type": "code",
   "execution_count": null,
   "id": "49a67550",
   "metadata": {},
   "outputs": [],
   "source": [
    "arr = df[df['type'] == 'benign']['abnormal_url'].value_counts()\n",
    "arr[0].shape\n",
    "# arr"
   ]
  },
  {
   "cell_type": "code",
   "execution_count": null,
   "id": "49e6115a",
   "metadata": {},
   "outputs": [],
   "source": [
    "arr = df[df['type'] == 'phishing']['abnormal_url'].value_counts()\n",
    "arr[0].shape\n",
    "# arr"
   ]
  },
  {
   "cell_type": "code",
   "execution_count": null,
   "id": "1d92da40",
   "metadata": {},
   "outputs": [],
   "source": [
    "arr = df[df['type'] == 'defacement']['abnormal_url'].value_counts()\n",
    "arr[0].shape\n",
    "# arr"
   ]
  },
  {
   "cell_type": "code",
   "execution_count": null,
   "id": "fd5e7004",
   "metadata": {},
   "outputs": [],
   "source": [
    "arr = df[df['type'] == 'malware']['abnormal_url'].value_counts()\n",
    "arr[0].shape\n",
    "# arr"
   ]
  },
  {
   "cell_type": "markdown",
   "id": "ecb924c8",
   "metadata": {},
   "source": [
    "### 3.3 Google Index"
   ]
  },
  {
   "cell_type": "code",
   "execution_count": null,
   "id": "cfe05b75",
   "metadata": {},
   "outputs": [],
   "source": [
    "def google_index(url):\n",
    "    \n",
    "    site = search(url, 5)\n",
    "    return 1 if site else 0\n",
    "\n",
    "df['google_index'] = df['url'].apply(lambda i: google_index(i))"
   ]
  },
  {
   "cell_type": "code",
   "execution_count": null,
   "id": "a6f3f651",
   "metadata": {},
   "outputs": [],
   "source": [
    "print(df['url'][0])\n",
    "for j in search(df['url'][0], num_results=10):\n",
    "    print(j)"
   ]
  },
  {
   "cell_type": "code",
   "execution_count": null,
   "id": "b2fc4976",
   "metadata": {},
   "outputs": [],
   "source": [
    "df['google_index'].value_counts()"
   ]
  },
  {
   "cell_type": "markdown",
   "id": "22f61452",
   "metadata": {},
   "source": [
    "### 3.4 Count Features"
   ]
  },
  {
   "cell_type": "code",
   "execution_count": null,
   "id": "15310480",
   "metadata": {},
   "outputs": [],
   "source": [
    "# Count dot (.)\n",
    "def count_dot(url):\n",
    "    count_dot = url.count('.')\n",
    "    return count_dot\n",
    "\n",
    "df['count_.'] = df['url'].apply(lambda i: count_dot(i))\n",
    "\n",
    "# Count www\n",
    "def count_www(url):\n",
    "    url.count('www')\n",
    "    return url.count('www')\n",
    "\n",
    "df['count_www'] = df['url'].apply(lambda i: count_www(i))\n",
    "\n",
    "# Count @\n",
    "def count_atrate(url):\n",
    "    return url.count('@')\n",
    "\n",
    "df['count_@'] = df['url'].apply(lambda i: count_atrate(i))\n",
    "\n",
    "# Count directories\n",
    "def no_of_dir(url):\n",
    "    urldir = urlparse(url).path\n",
    "    return urldir.count('/')\n",
    "\n",
    "df['count_dir'] = df['url'].apply(lambda i: no_of_dir(i))\n",
    "\n",
    "# Count embedded domains\n",
    "def no_of_embed(url):\n",
    "    urldir = urlparse(url).path\n",
    "    return urldir.count('//')\n",
    "\n",
    "df['count_embed-domain'] = df['url'].apply(lambda i: no_of_embed(i))\n",
    "\n"
   ]
  },
  {
   "cell_type": "markdown",
   "id": "05469b2b",
   "metadata": {},
   "source": [
    "**Count .**"
   ]
  },
  {
   "cell_type": "code",
   "execution_count": null,
   "id": "a5cfbbee",
   "metadata": {},
   "outputs": [],
   "source": [
    "plt.figure(figsize = (22 , 100))\n",
    "sns.set(style=\"darkgrid\")\n",
    "ax = sns.countplot(y=\"count_.\", data=df)\n",
    "plt.ylabel('No. of Dots in URL')\n",
    "plt.title(APP_NAME + \" - No. Of Dots Available in URLS \")"
   ]
  },
  {
   "cell_type": "code",
   "execution_count": null,
   "id": "a932bbe0",
   "metadata": {},
   "outputs": [],
   "source": []
  },
  {
   "cell_type": "markdown",
   "id": "5203008a",
   "metadata": {},
   "source": [
    "### 3.5 Suspicious Words Detection"
   ]
  },
  {
   "cell_type": "code",
   "execution_count": 18,
   "id": "95e021a6",
   "metadata": {},
   "outputs": [],
   "source": [
    "def suspicious_words(url):\n",
    "    match = re.search('PayPal|login|signin|bank|account|update|free|lucky|service|bonus|ebayisapi|webscr',\n",
    "                      url)\n",
    "    if match:\n",
    "        return 1\n",
    "    else:\n",
    "        return 0\n",
    "    \n",
    "df['sus_url'] = df['url'].apply(lambda i: suspicious_words(i))"
   ]
  },
  {
   "cell_type": "markdown",
   "id": "c4b5120e",
   "metadata": {},
   "source": [
    "### 3.6 URL Shortening Service Detection"
   ]
  },
  {
   "cell_type": "code",
   "execution_count": 19,
   "id": "257141a6",
   "metadata": {},
   "outputs": [],
   "source": [
    "def shortening_service(url):\n",
    "    match = re.search(r'bit\\.ly|goo\\.gl|shorte\\.st|go2l\\.ink|x\\.co|ow\\.ly|t\\.co|tinyurl|tr\\.im|is\\.gd|cli\\.gs|'\n",
    "                      r'yfrog\\.com|migre\\.me|ff\\.im|tiny\\.cc|url4\\.eu|twit\\.ac|su\\.pr|twurl\\.nl|snipurl\\.com|'\n",
    "                      r'short\\.to|BudURL\\.com|ping\\.fm|post\\.ly|Just\\.as|bkite\\.com|snipr\\.com|fic\\.kr|loopt\\.us|'\n",
    "                      r'doiop\\.com|short\\.ie|kl\\.am|wp\\.me|rubyurl\\.com|om\\.ly|to\\.ly|bit\\.do|t\\.co|lnkd\\.in|'\n",
    "                      r'db\\.tt|qr\\.ae|adf\\.ly|goo\\.gl|bitly\\.com|cur\\.lv|tinyurl\\.com|ow\\.ly|bit\\.ly|ity\\.im|'\n",
    "                      r'q\\.gs|is\\.gd|po\\.st|bc\\.vc|twitthis\\.com|u\\.to|j\\.mp|buzurl\\.com|cutt\\.us|u\\.bb|yourls\\.org|'\n",
    "                      r'x\\.co|prettylinkpro\\.com|scrnch\\.me|filoops\\.info|vzturl\\.com|qr\\.net|1url\\.com|tweez\\.me|v\\.gd|'\n",
    "                      r'tr\\.im|link\\.zip\\.net',\n",
    "                      url)\n",
    "    if match:\n",
    "        return 1\n",
    "    else:\n",
    "        return 0\n",
    "    \n",
    "df['short_url'] = df['url'].apply(lambda i: shortening_service(i))"
   ]
  },
  {
   "cell_type": "markdown",
   "id": "5b6a397b",
   "metadata": {},
   "source": [
    "### 3.7 Protocol Counts"
   ]
  },
  {
   "cell_type": "code",
   "execution_count": 20,
   "id": "07ddae5b",
   "metadata": {},
   "outputs": [],
   "source": [
    "# Count https\n",
    "def count_https(url):\n",
    "    return url.count('https')\n",
    "\n",
    "df['count_https'] = df['url'].apply(lambda i: count_https(i))\n",
    "\n",
    "# Count http\n",
    "def count_http(url):\n",
    "    return url.count('http')\n",
    "\n",
    "df['count_http'] = df['url'].apply(lambda i: count_http(i))"
   ]
  },
  {
   "cell_type": "markdown",
   "id": "2684adbd",
   "metadata": {},
   "source": [
    "### 3.8 Special Character Counts"
   ]
  },
  {
   "cell_type": "code",
   "execution_count": 21,
   "id": "4a3e0605",
   "metadata": {},
   "outputs": [],
   "source": [
    "# Count %\n",
    "def count_per(url):\n",
    "    return url.count('%')\n",
    "\n",
    "df['count%'] = df['url'].apply(lambda i: count_per(i))\n",
    "\n",
    "# Count ?\n",
    "def count_ques(url):\n",
    "    return url.count('?')\n",
    "\n",
    "df['count?'] = df['url'].apply(lambda i: count_ques(i))\n",
    "\n",
    "# Count -\n",
    "def count_hyphen(url):\n",
    "    return url.count('-')\n",
    "\n",
    "df['count-'] = df['url'].apply(lambda i: count_hyphen(i))\n",
    "\n",
    "# Count =\n",
    "def count_equal(url):\n",
    "    return url.count('=')\n",
    "\n",
    "df['count='] = df['url'].apply(lambda i: count_equal(i))"
   ]
  },
  {
   "cell_type": "markdown",
   "id": "0fd5f290",
   "metadata": {},
   "source": [
    "### 3.9 Length Features"
   ]
  },
  {
   "cell_type": "code",
   "execution_count": 22,
   "id": "7ff664fa",
   "metadata": {},
   "outputs": [],
   "source": [
    "# URL length\n",
    "def url_length(url):\n",
    "    return len(str(url))\n",
    "\n",
    "df['url_length'] = df['url'].apply(lambda i: url_length(i))\n",
    "\n",
    "# Hostname length\n",
    "def hostname_length(url):\n",
    "    return len(urlparse(url).netloc)\n",
    "\n",
    "df['hostname_length'] = df['url'].apply(lambda i: hostname_length(i))"
   ]
  },
  {
   "cell_type": "markdown",
   "id": "0b798504",
   "metadata": {},
   "source": [
    "### 3.10 Domain Features"
   ]
  },
  {
   "cell_type": "code",
   "execution_count": 23,
   "id": "0329671a",
   "metadata": {},
   "outputs": [],
   "source": [
    "# First directory length\n",
    "def fd_length(url):\n",
    "    urlpath = urlparse(url).path\n",
    "    try:\n",
    "        return len(urlpath.split('/')[1])\n",
    "    except:\n",
    "        return 0\n",
    "\n",
    "df['fd_length'] = df['url'].apply(lambda i: fd_length(i))\n",
    "\n",
    "# TLD length\n",
    "def tld_length(tld):\n",
    "    try:\n",
    "        return len(tld)\n",
    "    except:\n",
    "        return -1\n",
    "\n",
    "df['tld'] = df['url'].apply(lambda i: get_tld(i, fail_silently=True))\n",
    "df['tld_length'] = df['tld'].apply(lambda i: tld_length(i))\n",
    "df = df.drop(\"tld\", axis=1)"
   ]
  },
  {
   "cell_type": "markdown",
   "id": "5c0c26ea",
   "metadata": {},
   "source": [
    "### 3.11 Character Counts"
   ]
  },
  {
   "cell_type": "code",
   "execution_count": 24,
   "id": "300dddc5",
   "metadata": {},
   "outputs": [],
   "source": [
    "# Count digits\n",
    "def digit_count(url):\n",
    "    digits = 0\n",
    "    for i in url:\n",
    "        if i.isnumeric():\n",
    "            digits = digits + 1\n",
    "    return digits\n",
    "\n",
    "df['count_digits'] = df['url'].apply(lambda i: digit_count(i))\n",
    "\n",
    "# Count letters\n",
    "def letter_count(url):\n",
    "    letters = 0\n",
    "    for i in url:\n",
    "        if i.isalpha():\n",
    "            letters = letters + 1\n",
    "    return letters\n",
    "\n",
    "df['count_letters'] = df['url'].apply(lambda i: letter_count(i))"
   ]
  },
  {
   "cell_type": "markdown",
   "id": "6cabe43d",
   "metadata": {},
   "source": [
    "## 4. Label Encoding"
   ]
  },
  {
   "cell_type": "code",
   "execution_count": 25,
   "id": "2972f68b",
   "metadata": {},
   "outputs": [
    {
     "name": "stdout",
     "output_type": "stream",
     "text": [
      "Label mapping:\n",
      "benign: 0\n",
      "defacement: 1\n",
      "malware: 2\n",
      "phishing: 3\n",
      "\n",
      "Target distribution after encoding:\n",
      "type_code\n",
      "0    428103\n",
      "1     96457\n",
      "3     94111\n",
      "2     32520\n",
      "Name: count, dtype: int64\n"
     ]
    }
   ],
   "source": [
    "# Label Encoding\n",
    "label_encoder = LabelEncoder()\n",
    "df['type_code'] = label_encoder.fit_transform(df['type'])\n",
    "\n",
    "print(\"Label mapping:\")\n",
    "for i, label in enumerate(label_encoder.classes_):\n",
    "    print(f\"{label}: {i}\")\n",
    "\n",
    "print(\"\\nTarget distribution after encoding:\")\n",
    "print(df['type_code'].value_counts())"
   ]
  },
  {
   "cell_type": "markdown",
   "id": "adab6fa2",
   "metadata": {},
   "source": [
    "## 5. Feature and Target Creation"
   ]
  },
  {
   "cell_type": "code",
   "execution_count": null,
   "id": "9a4b7fa6",
   "metadata": {},
   "outputs": [
    {
     "name": "stdout",
     "output_type": "stream",
     "text": [
      "Feature matrix shape: (651191, 21)\n",
      "Target vector shape: (651191,)\n",
      "\n",
      "Features: ['use_of_ip', 'abnormal_url', 'count.', 'count-www', 'count@', 'count_dir', 'count_embed_domain', 'short_url', 'count%', 'count?', 'count-', 'count=', 'url_length', 'count_https', 'count_http', 'hostname_length', 'sus_url', 'fd_length', 'tld_length', 'count_digits', 'count_letters']\n"
     ]
    }
   ],
   "source": [
    "# Create feature matrix X and target vector Y\n",
    "X = df[['use_of_ip','abnormal_url', 'count_.', 'count_www', 'count_@',\n",
    "       'count_dir', 'count_embed_domain', 'short_url', 'count%', 'count?', \n",
    "       'count-', 'count=', 'url_length', 'count_https', 'count_http', \n",
    "       'hostname_length', 'sus_url', 'fd_length', 'tld_length', 'count_digits',\n",
    "       'count_letters']]\n",
    "\n",
    "Y = df['type_code']\n",
    "\n",
    "print(f\"Feature matrix shape: {X.shape}\")\n",
    "print(f\"Target vector shape: {Y.shape}\")\n",
    "print(f\"\\nFeatures: {X.columns.tolist()}\")"
   ]
  },
  {
   "cell_type": "markdown",
   "id": "eeaa0943",
   "metadata": {},
   "source": [
    "## 6. Train-Test Split"
   ]
  },
  {
   "cell_type": "code",
   "execution_count": 27,
   "id": "892a2eab",
   "metadata": {},
   "outputs": [
    {
     "name": "stdout",
     "output_type": "stream",
     "text": [
      "Training set size: (520952, 21)\n",
      "Test set size: (130239, 21)\n",
      "\n",
      "Training target distribution:\n",
      "type_code\n",
      "0    342325\n",
      "1     77353\n",
      "3     75275\n",
      "2     25999\n",
      "Name: count, dtype: int64\n",
      "\n",
      "Test target distribution:\n",
      "type_code\n",
      "0    85778\n",
      "1    19104\n",
      "3    18836\n",
      "2     6521\n",
      "Name: count, dtype: int64\n"
     ]
    }
   ],
   "source": [
    "# Split the dataset\n",
    "X_train, X_test, Y_train, Y_test = train_test_split(X, Y, test_size=0.2, shuffle=True, random_state=42)\n",
    "\n",
    "print(f\"Training set size: {X_train.shape}\")\n",
    "print(f\"Test set size: {X_test.shape}\")\n",
    "print(f\"\\nTraining target distribution:\")\n",
    "print(Y_train.value_counts())\n",
    "print(f\"\\nTest target distribution:\")\n",
    "print(Y_test.value_counts())"
   ]
  },
  {
   "cell_type": "markdown",
   "id": "c08e00d5",
   "metadata": {},
   "source": [
    "## 7. Feature Scaling\n",
    "SVM requires feature scaling for optimal performance."
   ]
  },
  {
   "cell_type": "code",
   "execution_count": 28,
   "id": "5ffef244",
   "metadata": {},
   "outputs": [
    {
     "name": "stdout",
     "output_type": "stream",
     "text": [
      "Feature scaling completed!\n",
      "Scaled training set shape: (520952, 21)\n",
      "Scaled test set shape: (130239, 21)\n"
     ]
    }
   ],
   "source": [
    "# Initialize StandardScaler\n",
    "scaler = StandardScaler()\n",
    "\n",
    "# Fit and transform training data\n",
    "X_train_scaled = scaler.fit_transform(X_train)\n",
    "\n",
    "# Transform test data (using the same scaler fitted on training data)\n",
    "X_test_scaled = scaler.transform(X_test)\n",
    "\n",
    "print(\"Feature scaling completed!\")\n",
    "print(f\"Scaled training set shape: {X_train_scaled.shape}\")\n",
    "print(f\"Scaled test set shape: {X_test_scaled.shape}\")"
   ]
  },
  {
   "cell_type": "markdown",
   "id": "d279461a",
   "metadata": {},
   "source": [
    "## 8. SVM Model"
   ]
  },
  {
   "cell_type": "code",
   "execution_count": null,
   "id": "6eafff99",
   "metadata": {},
   "outputs": [
    {
     "name": "stdout",
     "output_type": "stream",
     "text": [
      "Training SVM model...\n",
      "This may take a few minutes...\n"
     ]
    },
    {
     "ename": "",
     "evalue": "",
     "output_type": "error",
     "traceback": [
      "\u001b[1;31mCannot execute code, session has been disposed. Please try restarting the Kernel."
     ]
    },
    {
     "ename": "",
     "evalue": "",
     "output_type": "error",
     "traceback": [
      "\u001b[1;31mCannot execute code, session has been disposed. Please try restarting the Kernel. \n",
      "\u001b[1;31mView Jupyter <a href='command:jupyter.viewOutput'>log</a> for further details."
     ]
    }
   ],
   "source": [
    "# svm_model = SVC(\n",
    "#     kernel='rbf',\n",
    "#     C=1.0,\n",
    "#     probability=True,\n",
    "#     random_state=42\n",
    "# )\n",
    "\n",
    "svm_model = ThunderSVC(\n",
    "    kernel='rbf',\n",
    "    C=1.0,\n",
    "    # default gpu = 0: primary gpu, 1: secondary gpu\n",
    "    gpu_id=0,\n",
    "    probability=True,\n",
    "    random_state=42\n",
    ")\n",
    "\n",
    "print(\"Training SVM model...\")\n",
    "print(\"This may take a few minutes...\")\n",
    "svm_model.fit(X_train_scaled, Y_train)\n",
    "print(\"Training complete!\")"
   ]
  },
  {
   "cell_type": "markdown",
   "id": "3975d77f",
   "metadata": {},
   "source": [
    "## 9. Model Evaluation"
   ]
  },
  {
   "cell_type": "code",
   "execution_count": null,
   "id": "af3999a8",
   "metadata": {},
   "outputs": [],
   "source": [
    "# Predictions\n",
    "Y_pred_train = svm_model.predict(X_train_scaled)\n",
    "Y_pred_test = svm_model.predict(X_test_scaled)\n",
    "\n",
    "# Metrics\n",
    "train_accuracy = accuracy_score(Y_train, Y_pred_train) * 100\n",
    "test_accuracy = accuracy_score(Y_test, Y_pred_test) * 100\n",
    "\n",
    "print(f\"Training Accuracy: {train_accuracy:.2f}%\")\n",
    "print(f\"Test Accuracy: {test_accuracy:.2f}%\")\n",
    "\n",
    "# Detailed classification report\n",
    "print(\"\\n\" + \"=\"*50)\n",
    "print(\"Classification Report (Test Set)\")\n",
    "print(\"=\"*50)\n",
    "print(classification_report(Y_test, Y_pred_test, target_names=label_encoder.classes_))"
   ]
  },
  {
   "cell_type": "markdown",
   "id": "ff0559b4",
   "metadata": {},
   "source": [
    "## 10. Confusion Matrix"
   ]
  },
  {
   "cell_type": "code",
   "execution_count": null,
   "id": "14087307",
   "metadata": {},
   "outputs": [],
   "source": [
    "# Create confusion matrix\n",
    "cm = confusion_matrix(Y_test, Y_pred_test)\n",
    "\n",
    "# Plot confusion matrix\n",
    "plt.figure(figsize=(10, 8))\n",
    "sns.heatmap(cm, annot=True, fmt='d', cmap='Blues', \n",
    "            xticklabels=label_encoder.classes_, \n",
    "            yticklabels=label_encoder.classes_)\n",
    "plt.title('Confusion Matrix - SVM', fontsize=16)\n",
    "plt.xlabel('Predicted Label', fontsize=12)\n",
    "plt.ylabel('True Label', fontsize=12)\n",
    "plt.show()\n",
    "\n",
    "# Print confusion matrix values\n",
    "print(\"Confusion Matrix:\")\n",
    "print(cm)"
   ]
  },
  {
   "cell_type": "markdown",
   "id": "2bfdefe9",
   "metadata": {},
   "source": [
    "## 11. Model Export"
   ]
  },
  {
   "cell_type": "code",
   "execution_count": null,
   "id": "97c82af8",
   "metadata": {},
   "outputs": [],
   "source": [
    "# Save the model\n",
    "model_filename = 'best_svm_model.pkl'\n",
    "joblib.dump(svm_model, model_filename)\n",
    "print(f\"Model saved as: {model_filename}\")\n",
    "\n",
    "# Save the scaler\n",
    "scaler_filename = 'svm_scaler.pkl'\n",
    "joblib.dump(scaler, scaler_filename)\n",
    "print(f\"Scaler saved as: {scaler_filename}\")\n",
    "\n",
    "# Save the label encoder\n",
    "encoder_filename = 'label_encoder_svm.pkl'\n",
    "joblib.dump(label_encoder, encoder_filename)\n",
    "print(f\"Label encoder saved as: {encoder_filename}\")\n",
    "\n",
    "# Save model performance metrics\n",
    "metrics = {\n",
    "    'model': 'SVM',\n",
    "    'train_accuracy': train_accuracy,\n",
    "    'test_accuracy': test_accuracy,\n",
    "    'kernel': 'rbf',\n",
    "    'C': 1.0,\n",
    "    'random_state': 42\n",
    "}\n",
    "\n",
    "metrics_df = pd.DataFrame([metrics])\n",
    "metrics_df.to_csv('svm_model_metrics.csv', index=False)\n",
    "print(f\"Metrics saved to: svm_model_metrics.csv\")"
   ]
  },
  {
   "cell_type": "markdown",
   "id": "07f6554c",
   "metadata": {},
   "source": [
    "## 12. Summary"
   ]
  },
  {
   "cell_type": "code",
   "execution_count": null,
   "id": "7c22516f",
   "metadata": {},
   "outputs": [],
   "source": [
    "print(\"=\"*60)\n",
    "print(\"SVM MODEL SUMMARY\")\n",
    "print(\"=\"*60)\n",
    "print(f\"Algorithm: Support Vector Machine\")\n",
    "print(f\"Kernel: RBF\")\n",
    "print(f\"Regularization (C): 1.0\")\n",
    "print(f\"Number of Features: {X.shape[1]}\")\n",
    "print(f\"Training Samples: {X_train.shape[0]}\")\n",
    "print(f\"Test Samples: {X_test.shape[0]}\")\n",
    "print(f\"\\nPerformance:\")\n",
    "print(f\"  - Training Accuracy: {train_accuracy:.2f}%\")\n",
    "print(f\"  - Test Accuracy: {test_accuracy:.2f}%\")\n",
    "print(f\"\\nModel saved as: {model_filename}\")\n",
    "print(f\"Scaler saved as: {scaler_filename}\")\n",
    "print(\"=\"*60)"
   ]
  }
 ],
 "metadata": {
  "kernelspec": {
   "display_name": ".venv",
   "language": "python",
   "name": "python3"
  },
  "language_info": {
   "codemirror_mode": {
    "name": "ipython",
    "version": 3
   },
   "file_extension": ".py",
   "mimetype": "text/x-python",
   "name": "python",
   "nbconvert_exporter": "python",
   "pygments_lexer": "ipython3",
   "version": "3.13.7"
  }
 },
 "nbformat": 4,
 "nbformat_minor": 5
}
