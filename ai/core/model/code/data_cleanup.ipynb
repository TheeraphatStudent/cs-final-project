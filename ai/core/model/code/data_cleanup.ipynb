{
 "cells": [
  {
   "cell_type": "markdown",
   "id": "d0a693c4",
   "metadata": {},
   "source": [
    "# Data Cleanup Before Training"
   ]
  },
  {
   "cell_type": "code",
   "execution_count": null,
   "id": "26c4d269",
   "metadata": {},
   "outputs": [],
   "source": [
    "import pandas as pd\n",
    "\n",
    "input_source = \"../artifacts/dataset\"\n",
    "output_source = \"../artifacts/dataset_cleanup\"\n",
    "\n",
    "# File to merge an cleanup \n",
    "# \n",
    "input_files = []"
   ]
  },
  {
   "cell_type": "markdown",
   "id": "53042704",
   "metadata": {},
   "source": [
    "### Define url is safe or not \n",
    "\n",
    "- [Cyber crime info center - records repository](https://www.cybercrimeinfocenter.org/records-repository)"
   ]
  },
  {
   "cell_type": "code",
   "execution_count": null,
   "id": "c5614b0a",
   "metadata": {},
   "outputs": [],
   "source": [
    "# Url type\n",
    "safe_contain = [\"benign\"]\n",
    "malicious_contain = [\"defacement\", \"phishing\", \"malware\"]\n",
    "\n",
    "# Top level domain type\n",
    "safe_domain = [\"com\"]\n",
    "malicious_domain = [\"exe\", \"sh\"]"
   ]
  }
 ],
 "metadata": {
  "kernelspec": {
   "display_name": ".venv",
   "language": "python",
   "name": "python3"
  },
  "language_info": {
   "codemirror_mode": {
    "name": "ipython",
    "version": 3
   },
   "file_extension": ".py",
   "mimetype": "text/x-python",
   "name": "python",
   "nbconvert_exporter": "python",
   "pygments_lexer": "ipython3",
   "version": "3.13.7"
  }
 },
 "nbformat": 4,
 "nbformat_minor": 5
}
