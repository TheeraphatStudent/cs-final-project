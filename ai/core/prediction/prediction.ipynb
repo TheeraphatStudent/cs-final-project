{
 "cells": [
  {
   "cell_type": "markdown",
   "id": "fda53627",
   "metadata": {},
   "source": [
    "# Model Prediction"
   ]
  },
  {
   "cell_type": "code",
   "execution_count": null,
   "id": "f1bad16f",
   "metadata": {},
   "outputs": [],
   "source": [
    "import joblib\n",
    "\n",
    "\n",
    "model_path = \"../code/exports/models\""
   ]
  },
  {
   "cell_type": "markdown",
   "id": "43c00727",
   "metadata": {},
   "source": [
    "### Load Model"
   ]
  }
 ],
 "metadata": {
  "language_info": {
   "name": "python"
  }
 },
 "nbformat": 4,
 "nbformat_minor": 5
}
